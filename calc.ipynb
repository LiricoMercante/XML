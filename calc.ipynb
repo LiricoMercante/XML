{
 "metadata": {
  "name": "",
  "signature": "sha256:52a63e35ab144c004cd0ba14426e52037048fa61e7bd5c391166d3b20e640e66"
 },
 "nbformat": 3,
 "nbformat_minor": 0,
 "worksheets": [
  {
   "cells": [
    {
     "cell_type": "code",
     "collapsed": false,
     "input": [
      "from decimal import Decimal\n",
      "from datetime import date\n",
      "from datetime import datetime\n",
      "from pony.orm import *\n",
      "import os"
     ],
     "language": "python",
     "metadata": {},
     "outputs": [],
     "prompt_number": 2
    },
    {
     "cell_type": "code",
     "collapsed": false,
     "input": [
      "class Security(db.Entity):\n",
      "    id = Required(int, unique=True)\n",
      "    name = PrimaryKey(str)\n",
      "    fullname = Required(unicode)\n",
      "    code = Required(str)\n",
      "    price = Required(float)\n",
      "    cs_this = Required(float)\n",
      "    cs_next = Required(float)\n",
      "    expdate_this = Required(date)\n",
      "    expdate_next = Required(date)\n",
      "    unit = Required(unicode)\n",
      "    divider = Required(float)\n",
      "    options = Set(\"Option\")\n",
      "    lastupdate = Required(datetime)\n",
      "\n",
      "class Option(db.Entity):\n",
      "    id = PrimaryKey(int, auto=True)\n",
      "    security = Required(Security)\n",
      "    expdate = Required(date)\n",
      "    strike = Required(float)\n",
      "    call = Required(float)\n",
      "    put = Required(float)\n",
      "\n",
      "class Rates(db.Entity):\n",
      "    id = PrimaryKey(int, auto=True)\n",
      "    term = Required(float)\n",
      "    rate = Required(float)"
     ],
     "language": "python",
     "metadata": {},
     "outputs": [],
     "prompt_number": 4
    },
    {
     "cell_type": "code",
     "collapsed": false,
     "input": [
      "db.generate_mapping(create_tables=False, check_tables=True)"
     ],
     "language": "python",
     "metadata": {},
     "outputs": [],
     "prompt_number": 5
    },
    {
     "cell_type": "code",
     "collapsed": false,
     "input": [
      "sbrf = Security.get(name='SBRF')\n",
      "options = select(opt for opt in Option if opt.expdate==sbrf.expdate_this\n",
      "       and opt.security==sbrf)"
     ],
     "language": "python",
     "metadata": {},
     "outputs": [],
     "prompt_number": 111
    },
    {
     "cell_type": "code",
     "collapsed": false,
     "input": [
      "n = 10\n",
      "l = 5\n",
      "r = 11\n",
      "direction = 'raise'\n",
      "price = sbrf.price\n",
      "divider = sbrf.divider\n",
      "expdate = sbrf.expfate_this\n",
      "rate = min(select(rate.rate for rate in Rates if period<=rate.term)[:])\n",
      "call = [opt.call for opt in options]\n",
      "put = [opt.put for opt in options]\n",
      "strike = [opt.strike for opt in options]\n",
      "period = (expdate - datetime.now().date()).days\n",
      "cs = sbrf.cs_this"
     ],
     "language": "python",
     "metadata": {},
     "outputs": [],
     "prompt_number": 118
    },
    {
     "cell_type": "code",
     "collapsed": false,
     "input": [
      "def nominal(cost, rate, period):\n",
      "    ''' \u0412\u044b\u0447\u0438\u0441\u043b\u0435\u043d\u0438\u0435 \u043d\u043e\u043c\u0438\u043d\u0430\u043b\u0430\n",
      "        cost - \u0441\u0442\u043e\u0438\u043c\u043e\u0441\u0442\u044c \u043a\u043e\u043d\u0441\u0442\u0440\u0443\u043a\u0446\u0438\u0438\n",
      "        rate - \u0441\u0442\u0430\u0432\u043a\u0430 \u0438\u0437 \u0442\u0430\u0431\u043b\u0438\u0446\u044b\n",
      "        period - \u0440\u0430\u0437\u043d\u0438\u0446\u0430 \u0432 \u0434\u043d\u044f\u0445\n",
      "    '''\n",
      "    \n",
      "    return float(cost) + float(cost)*365*100/(rate*period)"
     ],
     "language": "python",
     "metadata": {},
     "outputs": [],
     "prompt_number": 101
    },
    {
     "cell_type": "heading",
     "level": 2,
     "metadata": {},
     "source": [
      "\u0411\u0438\u043d\u0430\u0440\u043d\u044b\u0435"
     ]
    },
    {
     "cell_type": "code",
     "collapsed": false,
     "input": [
      "def binary_calc(call, put, strike, direction, rate, period, n):\n",
      "    '''\u0412\u044b\u0447\u0438\u0441\u043b\u0435\u043d\u0438\u0435 \u0431\u0438\u043d\u0430\u0440\u043d\u043e\u0439 \u043a\u043e\u043d\u0441\u0442\u0440\u0443\u043a\u0446\u0438\u0438\n",
      "        call - \u043c\u0430\u0441\u0441\u0438\u0432 \u043a\u043e\u043b\u043b\u043e\u0432 \u043f\u043e \u0432\u044b\u0431\u0440\u0430\u043d\u043d\u043e\u043c\u0443 \u0430\u043a\u0442\u0438\u0432\u0443 \u0438 \u0434\u0430\u0442\u0435 \u044d\u043a\u0441\u043f\u0438\u0440\u0430\u0446\u0438\u0438\n",
      "        put - \u043c\u0430\u0441\u0441\u0438\u0432 \u043f\u0443\u0442\u043e\u0432\n",
      "        strike - \u043c\u0430\u0441\u0441\u0438\u0432 \u0441\u0442\u0440\u0430\u0439\u043a\u043e\u0432 \u043f\u043e \u0432\u044b\u0431\u0440\u0430\u043d\u043d\u043e\u043c\u0443 \u0430\u043a\u0442\u0438\u0432\u0443 \u0438 \u0434\u0430\u0442\u0435 \u044d\u043a\u0441\u043f\u0438\u0440\u0430\u0446\u0438\u0438\n",
      "        direction - raise/fall\n",
      "        n - \u043d\u043e\u043c\u0435\u0440 \u0432\u044b\u0431\u0440\u0430\u043d\u043d\u043e\u0433\u043e \u0441\u0442\u0440\u0430\u0439\u043a\u0430\n",
      "        rate - \u0441\u0442\u0430\u0432\u043a\u0430 \u0438\u0437 \u0442\u0430\u0431\u043b\u0438\u0446\u044b\n",
      "        period - \u0440\u0430\u0437\u043d\u0438\u0446\u0430 \u043c\u0435\u0436\u0434\u0443 \u0434\u0430\u0442\u043e\u0439 \u044d\u043a\u0441\u043f\u0438\u0440\u0430\u0446\u0438\u0438 \u0438 \u0442\u0435\u043a. \u0434\u0430\u0442\u043e\u0439\n",
      "    '''\n",
      "    if direction == 'raise':\n",
      "        cost = call[n-1] - call[n]\n",
      "        step = strike[n] - strike[n-1]\n",
      "    else:\n",
      "        cost = put[n+1] - put[n]\n",
      "        step = strike[n+1] - strike[n]\n",
      "    nom = nominal(cost, rate, period)\n",
      "    mc = 10 * nom\n",
      "    ret = step*365*100/(nom*period)\n",
      "    return [mc, ret]"
     ],
     "language": "python",
     "metadata": {},
     "outputs": [],
     "prompt_number": 102
    },
    {
     "cell_type": "code",
     "collapsed": false,
     "input": [
      "binary_calc(call, put, strike, 'raise', rate, period, n)"
     ],
     "language": "python",
     "metadata": {},
     "outputs": [
      {
       "metadata": {},
       "output_type": "pyout",
       "prompt_number": 106,
       "text": [
        "(234513.6231884058, 8.458765103723772)"
       ]
      }
     ],
     "prompt_number": 106
    },
    {
     "cell_type": "heading",
     "level": 2,
     "metadata": {},
     "source": [
      "\u0414\u0438\u0430\u043f\u0430\u0437\u043e\u043d\u043d\u044b\u0435"
     ]
    },
    {
     "cell_type": "code",
     "collapsed": false,
     "input": [
      "def range_calc(call, put, strike, rate, period, l, r):\n",
      "    ''' \u0412\u044b\u0447\u0438\u0441\u043b\u0435\u043d\u0438\u0435 \u0434\u0438\u0430\u043f\u0430\u0437\u043e\u043d\u043d\u043e\u0439 \u043a\u043e\u043d\u0441\u0442\u0440\u0443\u043a\u0446\u0438\u0438\n",
      "        call - \u043c\u0430\u0441\u0441\u0438\u0432 \u043a\u043e\u043b\u043b\u043e\u0432 \u043f\u043e \u0432\u044b\u0431\u0440\u0430\u043d\u043d\u043e\u043c\u0443 \u0430\u043a\u0442\u0438\u0432\u0443 \u0438 \u0434\u0430\u0442\u0435 \u044d\u043a\u0441\u043f\u0438\u0440\u0430\u0446\u0438\u0438\n",
      "        put - \u043c\u0430\u0441\u0441\u0438\u0432 \u043f\u0443\u0442\u043e\u0432\n",
      "        strike - \u043c\u0430\u0441\u0441\u0438\u0432 \u0441\u0442\u0440\u0430\u0439\u043a\u043e\u0432 \u043f\u043e \u0432\u044b\u0431\u0440\u0430\u043d\u043d\u043e\u043c\u0443 \u0430\u043a\u0442\u0438\u0432\u0443 \u0438 \u0434\u0430\u0442\u0435 \u044d\u043a\u0441\u043f\u0438\u0440\u0430\u0446\u0438\u0438\n",
      "        l,r - \u043d\u043e\u043c\u0435\u0440\u0430 \u0432\u044b\u0431\u0440\u0430\u043d\u043d\u044b\u0445 \u0441\u0442\u0440\u0430\u0439\u043a\u043e\u0432\n",
      "        rate - \u0441\u0442\u0430\u0432\u043a\u0430 \u0438\u0437 \u0442\u0430\u0431\u043b\u0438\u0446\u044b\n",
      "        period - \u0440\u0430\u0437\u043d\u0438\u0446\u0430 \u043c\u0435\u0436\u0434\u0443 \u0434\u0430\u0442\u043e\u0439 \u044d\u043a\u0441\u043f\u0438\u0440\u0430\u0446\u0438\u0438 \u0438 \u0442\u0435\u043a. \u0434\u0430\u0442\u043e\u0439\n",
      "    '''\n",
      "    cost = call[l-1]-call[l]-call[r]+call[r+1]\n",
      "    step = strike[l] - strike[l-1]\n",
      "    nom = nominal(cost, rate, period)\n",
      "    mc = 10*nom\n",
      "    ret = step*365*100/(nom*period)\n",
      "    return [mc, ret]"
     ],
     "language": "python",
     "metadata": {},
     "outputs": [],
     "prompt_number": 108
    },
    {
     "cell_type": "code",
     "collapsed": false,
     "input": [
      "range_calc(call, put, strike, rate, period, l, r)"
     ],
     "language": "python",
     "metadata": {},
     "outputs": [
      {
       "metadata": {},
       "output_type": "pyout",
       "prompt_number": 110,
       "text": [
        "[149235.9420289855, 13.2923451629945]"
       ]
      }
     ],
     "prompt_number": 110
    },
    {
     "cell_type": "heading",
     "level": 2,
     "metadata": {},
     "source": [
      "\u0421 \u0443\u0447\u0430\u0441\u0442\u0438\u0435\u043c"
     ]
    },
    {
     "cell_type": "code",
     "collapsed": false,
     "input": [
      "def part_calc(call, put, strike, cs, direction, rate, period, price, divider):\n",
      "    ''' \u0412\u044b\u0447\u0438\u0441\u043b\u0435\u043d\u0438\u0435 \u043a\u043e\u043d\u0441\u0442\u0440\u0443\u043a\u0446\u0438\u0438 \u0441 \u0443\u0447\u0430\u0441\u0442\u0438\u0435\u043c\n",
      "        call - \u043c\u0430\u0441\u0441\u0438\u0432 \u043a\u043e\u043b\u043b\u043e\u0432 \u043f\u043e \u0432\u044b\u0431\u0440\u0430\u043d\u043d\u043e\u043c\u0443 \u0430\u043a\u0442\u0438\u0432\u0443 \u0438 \u0434\u0430\u0442\u0435 \u044d\u043a\u0441\u043f\u0438\u0440\u0430\u0446\u0438\u0438\n",
      "        put - \u043c\u0430\u0441\u0441\u0438\u0432 \u043f\u0443\u0442\u043e\u0432\n",
      "        strike - \u043c\u0430\u0441\u0441\u0438\u0432 \u0441\u0442\u0440\u0430\u0439\u043a\u043e\u0432 \u043f\u043e \u0432\u044b\u0431\u0440\u0430\u043d\u043d\u043e\u043c\u0443 \u0430\u043a\u0442\u0438\u0432\u0443 \u0438 \u0434\u0430\u0442\u0435 \u044d\u043a\u0441\u043f\u0438\u0440\u0430\u0446\u0438\u0438\n",
      "        cs - \u0446\u0435\u043d\u0442\u0440\u0430\u043b\u044c\u043d\u044b\u0439 \u0441\u0442\u0440\u0430\u0439\u043a\n",
      "        direction - raise/fall\n",
      "        n - \u043d\u043e\u043c\u0435\u0440 \u0432\u044b\u0431\u0440\u0430\u043d\u043d\u043e\u0433\u043e \u0441\u0442\u0440\u0430\u0439\u043a\u0430\n",
      "        rate - \u0441\u0442\u0430\u0432\u043a\u0430 \u0438\u0437 \u0442\u0430\u0431\u043b\u0438\u0446\u044b\n",
      "        period - \u0440\u0430\u0437\u043d\u0438\u0446\u0430 \u043c\u0435\u0436\u0434\u0443 \u0434\u0430\u0442\u043e\u0439 \u044d\u043a\u0441\u043f\u0438\u0440\u0430\u0446\u0438\u0438 \u0438 \u0442\u0435\u043a. \u0434\u0430\u0442\u043e\u0439\n",
      "        price - \u0442\u0435\u043a. \u0446\u0435\u043d\u0430 \u0431\u0430\u0437\u043e\u0432\u043e\u0433\u043e \u0430\u043a\u0442\u0438\u0432\u0430\n",
      "        divider - \u0434\u0435\u043b\u0438\u0442\u0435\u043b\u044c\n",
      "    '''\n",
      "    l = strike.index(cs) - 1\n",
      "    r = strike.index(cs) + 1\n",
      "    if direction == 'raise':\n",
      "        cost = call[l] - call[r]\n",
      "        step = strike[r] - strike[l]\n",
      "    else:\n",
      "        cost = put[r] - put[l]\n",
      "        step = strike[r] - strike[l]\n",
      "    \n",
      "    nom = nominal(cost, rate, period)\n",
      "    mc = 10*nom\n",
      "    ret = step*365*100/(nom*period)\n",
      "    coeff = step*price*100/(nom*(strike[r]/divider-price)) if \\\n",
      "    direction=='raise' else step*price*100/(nom*(price-strike[l]/divider))\n",
      "    return [mc, ret, coeff]"
     ],
     "language": "python",
     "metadata": {},
     "outputs": [],
     "prompt_number": 117
    },
    {
     "cell_type": "code",
     "collapsed": false,
     "input": [
      "part_calc(call, put, strike, cs, direction, rate, period, price, divider)"
     ],
     "language": "python",
     "metadata": {},
     "outputs": [
      {
       "metadata": {},
       "output_type": "pyout",
       "prompt_number": 119,
       "text": [
        "[291809.5652173913, 13.595823363062866, -80.64748613581759]"
       ]
      }
     ],
     "prompt_number": 119
    },
    {
     "cell_type": "code",
     "collapsed": false,
     "input": [],
     "language": "python",
     "metadata": {},
     "outputs": []
    }
   ],
   "metadata": {}
  }
 ]
}
