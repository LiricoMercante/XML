{
 "metadata": {
  "name": "",
  "signature": "sha256:fcfcfecbece56a9c963a7b4e02c980b56a7780631bef48717a206cdc74b13882"
 },
 "nbformat": 3,
 "nbformat_minor": 0,
 "worksheets": [
  {
   "cells": [
    {
     "cell_type": "code",
     "collapsed": false,
     "input": [
      "from lxml import etree"
     ],
     "language": "python",
     "metadata": {},
     "outputs": [],
     "prompt_number": 2
    },
    {
     "cell_type": "code",
     "collapsed": false,
     "input": [
      "tree = etree.parse('book.xml')\n",
      "root = tree.getroot() "
     ],
     "language": "python",
     "metadata": {},
     "outputs": [],
     "prompt_number": 24
    },
    {
     "cell_type": "code",
     "collapsed": false,
     "input": [
      "for e in root.iter():\n",
      "    print(tree.getpath(e))"
     ],
     "language": "python",
     "metadata": {},
     "outputs": [
      {
       "output_type": "stream",
       "stream": "stdout",
       "text": [
        "/catalog\n",
        "/catalog/book[1]\n",
        "/catalog/book[1]/author\n",
        "/catalog/book[1]/title\n",
        "/catalog/book[1]/genre\n",
        "/catalog/book[1]/price\n",
        "/catalog/book[1]/publish_date\n",
        "/catalog/book[1]/description\n",
        "/catalog/book[2]\n",
        "/catalog/book[2]/author\n",
        "/catalog/book[2]/title\n",
        "/catalog/book[2]/genre\n",
        "/catalog/book[2]/price\n",
        "/catalog/book[2]/publish_date\n",
        "/catalog/book[2]/description\n",
        "/catalog/book[3]\n",
        "/catalog/book[3]/author\n",
        "/catalog/book[3]/title\n",
        "/catalog/book[3]/genre\n",
        "/catalog/book[3]/price\n",
        "/catalog/book[3]/publish_date\n",
        "/catalog/book[3]/description\n",
        "/catalog/book[4]\n",
        "/catalog/book[4]/author\n",
        "/catalog/book[4]/title\n",
        "/catalog/book[4]/genre\n",
        "/catalog/book[4]/price\n",
        "/catalog/book[4]/publish_date\n",
        "/catalog/book[4]/description\n",
        "/catalog/book[5]\n",
        "/catalog/book[5]/author\n",
        "/catalog/book[5]/title\n",
        "/catalog/book[5]/genre\n",
        "/catalog/book[5]/price\n",
        "/catalog/book[5]/publish_date\n",
        "/catalog/book[5]/description\n",
        "/catalog/book[6]\n",
        "/catalog/book[6]/author\n",
        "/catalog/book[6]/title\n",
        "/catalog/book[6]/genre\n",
        "/catalog/book[6]/price\n",
        "/catalog/book[6]/publish_date\n",
        "/catalog/book[6]/description\n",
        "/catalog/book[7]\n",
        "/catalog/book[7]/author\n",
        "/catalog/book[7]/title\n",
        "/catalog/book[7]/genre\n",
        "/catalog/book[7]/price\n",
        "/catalog/book[7]/publish_date\n",
        "/catalog/book[7]/description\n",
        "/catalog/book[8]\n",
        "/catalog/book[8]/author\n",
        "/catalog/book[8]/title\n",
        "/catalog/book[8]/genre\n",
        "/catalog/book[8]/price\n",
        "/catalog/book[8]/publish_date\n",
        "/catalog/book[8]/description\n",
        "/catalog/book[9]\n",
        "/catalog/book[9]/author\n",
        "/catalog/book[9]/title\n",
        "/catalog/book[9]/genre\n",
        "/catalog/book[9]/price\n",
        "/catalog/book[9]/publish_date\n",
        "/catalog/book[9]/description\n",
        "/catalog/book[10]\n",
        "/catalog/book[10]/author\n",
        "/catalog/book[10]/title\n",
        "/catalog/book[10]/genre\n",
        "/catalog/book[10]/price\n",
        "/catalog/book[10]/publish_date\n",
        "/catalog/book[10]/description\n",
        "/catalog/book[11]\n",
        "/catalog/book[11]/author\n",
        "/catalog/book[11]/title\n",
        "/catalog/book[11]/genre\n",
        "/catalog/book[11]/price\n",
        "/catalog/book[11]/publish_date\n",
        "/catalog/book[11]/description\n",
        "/catalog/book[12]\n",
        "/catalog/book[12]/author\n",
        "/catalog/book[12]/title\n",
        "/catalog/book[12]/genre\n",
        "/catalog/book[12]/price\n",
        "/catalog/book[12]/publish_date\n",
        "/catalog/book[12]/description\n"
       ]
      }
     ],
     "prompt_number": 29
    },
    {
     "cell_type": "code",
     "collapsed": false,
     "input": [],
     "language": "python",
     "metadata": {},
     "outputs": []
    }
   ],
   "metadata": {}
  }
 ]
}
